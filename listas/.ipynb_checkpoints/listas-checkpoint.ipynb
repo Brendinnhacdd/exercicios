{
 "cells": [
  {
   "cell_type": "markdown",
   "id": "5dc61dd6-2576-4263-93a3-c6f811556006",
   "metadata": {},
   "source": [
    "# Exercicio de Listas\n",
    "#### Brenda"
   ]
  },
  {
   "cell_type": "code",
   "execution_count": 1,
   "id": "1c18c62b-863b-4dde-b5ab-3628b0fde15e",
   "metadata": {},
   "outputs": [
    {
     "name": "stdout",
     "output_type": "stream",
     "text": [
      "1\n"
     ]
    }
   ],
   "source": [
    "a=1\n",
    "print (a)"
   ]
  },
  {
   "cell_type": "code",
   "execution_count": 2,
   "id": "ff4aa823-454f-4ff9-8833-f25a63592a0e",
   "metadata": {},
   "outputs": [
    {
     "name": "stdout",
     "output_type": "stream",
     "text": [
      "(15, 14, 13, 12, 11, 10, 9, 8, 7, 6, 5, 4, 3, 2, 1, 0)\n"
     ]
    }
   ],
   "source": [
    "a=0,1,2,3,4,5,6,7,8,9,10,11,12,13,14,15\n",
    "a_revertida = a[::-1]\n",
    "print (a_revertida)"
   ]
  },
  {
   "cell_type": "code",
   "execution_count": 3,
   "id": "dd3964c2-d6fb-4c07-95dc-fdb23529e6da",
   "metadata": {},
   "outputs": [
    {
     "name": "stdout",
     "output_type": "stream",
     "text": [
      "(1, 2, 3, 4, 5, 6, 7, 8, 9)\n"
     ]
    }
   ],
   "source": [
    "a=0,1,2,3,4,5,6,7,8,9,10,11,12,13,14,15\n",
    "elementos_selecionados = a[1:9]\n",
    "print (elementos_selecionados)"
   ]
  },
  {
   "cell_type": "code",
   "execution_count": 4,
   "id": "c39043f8-04b5-439e-8cb6-da6b41525953",
   "metadata": {},
   "outputs": [
    {
     "name": "stdout",
     "output_type": "stream",
     "text": [
      "(1, 3, 5, 7, 9, 11, 13, 15)\n"
     ]
    }
   ],
   "source": [
    "a=0,1,2,3,4,5,6,7,8,9,10,11,12,13,14,15\n",
    "elementos_impares = a[1::2]\n",
    "print (elementos_impares)"
   ]
  },
  {
   "cell_type": "code",
   "execution_count": null,
   "id": "fb3883bc-27a0-4f79-a3a3-9def552f1d50",
   "metadata": {},
   "outputs": [],
   "source": []
  }
 ],
 "metadata": {
  "kernelspec": {
   "display_name": "Python 3 (ipykernel)",
   "language": "python",
   "name": "python3"
  },
  "language_info": {
   "codemirror_mode": {
    "name": "ipython",
    "version": 3
   },
   "file_extension": ".py",
   "mimetype": "text/x-python",
   "name": "python",
   "nbconvert_exporter": "python",
   "pygments_lexer": "ipython3",
   "version": "3.11.2"
  }
 },
 "nbformat": 4,
 "nbformat_minor": 5
}
