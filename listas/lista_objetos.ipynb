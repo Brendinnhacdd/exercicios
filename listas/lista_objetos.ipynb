{
 "cells": [
  {
   "cell_type": "code",
   "execution_count": 1,
   "id": "ff94dbc9-e929-4501-86cf-b79f97a1feb5",
   "metadata": {},
   "outputs": [],
   "source": [
    "lista_de_objetos = {'Maçã':\"1.00\", \n",
    "                    'Banana':\"0.50\", \n",
    "                    'Laranja':\"0.75\", \n",
    "                    'Uva':\"2.00\", \n",
    "                    'Pêra':\"1.50\"}"
   ]
  },
  {
   "cell_type": "code",
   "execution_count": 2,
   "id": "88aa58de-fa9f-42e4-a178-e48de9f1d48b",
   "metadata": {},
   "outputs": [],
   "source": [
    "def printandoprodutos() :\n",
    "    print('Esses são todos os produtos dentro da lista de produtos da loja:\\n')\n",
    "    nomesprodutos = \", \".join(lista_de_objetos.keys())\n",
    "    print(f'- {nomesprodutos}\\n')"
   ]
  },
  {
   "cell_type": "code",
   "execution_count": 3,
   "id": "5677eb17-f041-4332-b587-12a0d6e67029",
   "metadata": {},
   "outputs": [],
   "source": [
    "def procurandoprodutos() :\n",
    "    produtoescolhido = input('Qual produto você deseja pesquisar?')\n",
    "    produtoencontrado = lista_de_objetos.get(produtoescolhido)\n",
    "\n",
    "    print(f'Foi pesquisado: [{produtoescolhido}]')\n",
    "    if produtoencontrado :\n",
    "        print(f'Temos o produto {produtoescolhido}, ele custa {produtoencontrado}\\n')\n",
    "        procurandoprodutos()\n",
    "    else :\n",
    "        print('Esse produto não está disponível :')\n",
    "        printandoprodutos()\n",
    "        procurandoprodutos()"
   ]
  },
  {
   "cell_type": "code",
   "execution_count": 4,
   "id": "8a3777fe-1e7b-4460-8aed-a7c726c8405b",
   "metadata": {},
   "outputs": [
    {
     "name": "stdout",
     "output_type": "stream",
     "text": [
      "Esses são todos os produtos dentro da lista de produtos da loja:\n",
      "\n",
      "- Maçã, Banana, Laranja, Uva, Pêra\n",
      "\n"
     ]
    }
   ],
   "source": [
    "printandoprodutos()"
   ]
  },
  {
   "cell_type": "code",
   "execution_count": null,
   "id": "f1f6699c-611c-444c-9030-c9b80d851761",
   "metadata": {},
   "outputs": [
    {
     "name": "stdin",
     "output_type": "stream",
     "text": [
      "Qual produto você deseja pesquisar? Laranja\n"
     ]
    },
    {
     "name": "stdout",
     "output_type": "stream",
     "text": [
      "Foi pesquisado: [Laranja]\n",
      "Temos o produto Laranja, ele custa 0.75\n",
      "\n"
     ]
    }
   ],
   "source": [
    "procurandoprodutos()"
   ]
  },
  {
   "cell_type": "code",
   "execution_count": null,
   "id": "f13e09e6-5247-43c8-8108-6dbff6e99ce7",
   "metadata": {},
   "outputs": [],
   "source": []
  }
 ],
 "metadata": {
  "kernelspec": {
   "display_name": "Python 3 (ipykernel)",
   "language": "python",
   "name": "python3"
  },
  "language_info": {
   "codemirror_mode": {
    "name": "ipython",
    "version": 3
   },
   "file_extension": ".py",
   "mimetype": "text/x-python",
   "name": "python",
   "nbconvert_exporter": "python",
   "pygments_lexer": "ipython3",
   "version": "3.11.2"
  }
 },
 "nbformat": 4,
 "nbformat_minor": 5
}
