{
 "cells": [
  {
   "cell_type": "code",
   "execution_count": 2,
   "id": "ee7c7365-5b14-41ec-a5af-1b170a6a5e87",
   "metadata": {},
   "outputs": [
    {
     "name": "stdout",
     "output_type": "stream",
     "text": [
      "Carro com o menor preço:\n",
      "Marca: Lada, Modelo: Laika 1.5\n",
      "Ano do Modelo: 1991\n",
      "Preço médio: R$1985.00\n",
      "\n",
      "Carro com o maior preço:\n",
      "Marca: Ferrari, Modelo: SF 90 SPIDER 4.0 V8 Bi-Turbo (Híbrido)\n",
      "Ano do Modelo: 2023\n",
      "Preço médio: R$8600000.00\n"
     ]
    }
   ],
   "source": [
    "import pandas as pd\n",
    "\n",
    "# Carregar o arquivo CSV\n",
    "df = pd.read_csv('fipe_cars.csv')\n",
    "\n",
    "# Filtrar os dados para o ano de referência 2023\n",
    "df_2023 = df[df['year_of_reference'] == 2023]\n",
    "\n",
    "# Encontrar o carro com o menor preço\n",
    "min_price_row = df_2023.loc[df_2023['avg_price_brl'].idxmin()]\n",
    "min_price_brand_model = (min_price_row['brand'], min_price_row['model'])\n",
    "min_price_year_model = min_price_row['year_model']\n",
    "min_price = min_price_row['avg_price_brl']\n",
    "\n",
    "# Encontrar o carro com o maior preço\n",
    "max_price_row = df_2023.loc[df_2023['avg_price_brl'].idxmax()]\n",
    "max_price_brand_model = (max_price_row['brand'], max_price_row['model'])\n",
    "max_price_year_model = max_price_row['year_model']\n",
    "max_price = max_price_row['avg_price_brl']\n",
    "\n",
    "# Exibir os resultados\n",
    "print(f\"Carro com o menor preço:\")\n",
    "print(f\"Marca: {min_price_brand_model[0]}, Modelo: {min_price_brand_model[1]}\")\n",
    "print(f\"Ano do Modelo: {min_price_year_model}\")\n",
    "print(f\"Preço médio: R${min_price:.2f}\")\n",
    "\n",
    "print(f\"\\nCarro com o maior preço:\")\n",
    "print(f\"Marca: {max_price_brand_model[0]}, Modelo: {max_price_brand_model[1]}\")\n",
    "print(f\"Ano do Modelo: {max_price_year_model}\")\n",
    "print(f\"Preço médio: R${max_price:.2f}\")\n"
   ]
  },
  {
   "cell_type": "code",
   "execution_count": 5,
   "id": "3c0d8755-20c9-4e18-b7a2-da7d57cbc73e",
   "metadata": {},
   "outputs": [
    {
     "name": "stdout",
     "output_type": "stream",
     "text": [
      "Carro com o menor preço na faixa de R$5.000 a R$7.000:\n",
      "Marca: BRM, Modelo: Buggy/M-8/M-8 Long 1.6\n",
      "Ano do Modelo: 1987\n",
      "Preço médio: R$5020.00\n",
      "\n",
      "Carro com o maior preço na faixa de R$5.000 a R$7.000:\n",
      "Marca: Peugeot, Modelo: 306 Soleil 1.8 16V 2p\n",
      "Ano do Modelo: 2000\n",
      "Preço médio: R$6999.00\n"
     ]
    }
   ],
   "source": [
    "import pandas as pd\n",
    "\n",
    "# Carregar o arquivo CSV\n",
    "df = pd.read_csv('fipe_cars.csv')\n",
    "\n",
    "# Filtrar os dados para o ano de referência 2023\n",
    "df_2023 = df[df['year_of_reference'] == 2023]\n",
    "\n",
    "# Filtrar os carros com preço entre R$5.000 e R$7.000\n",
    "df_filtered = df_2023[(df_2023['avg_price_brl'] >= 5000) & (df_2023['avg_price_brl'] <= 7000)]\n",
    "\n",
    "# Verificar se há dados após o filtro\n",
    "if df_filtered.empty:\n",
    "    print(\"Nenhum carro encontrado com o preço entre R$5.000 e R$7.000.\")\n",
    "else:\n",
    "    # Encontrar o carro com o menor preço dentro da faixa\n",
    "    min_price_row = df_filtered.loc[df_filtered['avg_price_brl'].idxmin()]\n",
    "    min_price_brand_model = (min_price_row['brand'], min_price_row['model'])\n",
    "    min_price_year_model = min_price_row['year_model']\n",
    "    min_price = min_price_row['avg_price_brl']\n",
    "\n",
    "    # Encontrar o carro com o maior preço dentro da faixa\n",
    "    max_price_row = df_filtered.loc[df_filtered['avg_price_brl'].idxmax()]\n",
    "    max_price_brand_model = (max_price_row['brand'], max_price_row['model'])\n",
    "    max_price_year_model = max_price_row['year_model']\n",
    "    max_price = max_price_row['avg_price_brl']\n",
    "\n",
    "    # Exibir os resultados\n",
    "    print(f\"Carro com o menor preço na faixa de R$5.000 a R$7.000:\")\n",
    "    print(f\"Marca: {min_price_brand_model[0]}, Modelo: {min_price_brand_model[1]}\")\n",
    "    print(f\"Ano do Modelo: {min_price_year_model}\")\n",
    "    print(f\"Preço médio: R${min_price:.2f}\")\n",
    "\n",
    "    print(f\"\\nCarro com o maior preço na faixa de R$5.000 a R$7.000:\")\n",
    "    print(f\"Marca: {max_price_brand_model[0]}, Modelo: {max_price_brand_model[1]}\")\n",
    "    print(f\"Ano do Modelo: {max_price_year_model}\")\n",
    "    print(f\"Preço médio: R${max_price:.2f}\")\n"
   ]
  },
  {
   "cell_type": "code",
   "execution_count": null,
   "id": "c46f1acf-3dfe-4959-b2f3-f35d283dd82f",
   "metadata": {},
   "outputs": [],
   "source": []
  }
 ],
 "metadata": {
  "kernelspec": {
   "display_name": "Python 3 (ipykernel)",
   "language": "python",
   "name": "python3"
  },
  "language_info": {
   "codemirror_mode": {
    "name": "ipython",
    "version": 3
   },
   "file_extension": ".py",
   "mimetype": "text/x-python",
   "name": "python",
   "nbconvert_exporter": "python",
   "pygments_lexer": "ipython3",
   "version": "3.11.2"
  }
 },
 "nbformat": 4,
 "nbformat_minor": 5
}
